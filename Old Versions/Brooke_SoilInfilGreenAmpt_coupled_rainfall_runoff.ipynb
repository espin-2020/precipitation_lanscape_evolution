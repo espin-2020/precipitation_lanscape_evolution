{
 "cells": [
  {
   "cell_type": "code",
   "execution_count": 1,
   "metadata": {},
   "outputs": [],
   "source": [
    "#%matplotlib notebook\n",
    "import os\n",
    "import numpy as np\n",
    "from landlab.io import read_esri_ascii, write_esri_ascii\n",
    "from landlab import imshow_grid_at_node\n",
    "from landlab.components import SpatialPrecipitationDistribution\n",
    "from landlab.components import OverlandFlow\n",
    "import matplotlib.pyplot as plt\n",
    "\n",
    "from landlab import RasterModelGrid\n",
    "from landlab.components import SoilInfiltrationGreenAmpt\n",
    "from landlab import imshow_grid\n",
    "from landlab import imshow_grid_at_node\n",
    "from landlab.components import OverlandFlow\n",
    "import numpy as np\n",
    "\n",
    "from landlab.components.uniform_precip import PrecipitationDistribution\n",
    "import numpy as np\n",
    "from landlab import RasterModelGrid\n",
    "import random\n",
    "import matplotlib.pyplot as plt"
   ]
  },
  {
   "cell_type": "code",
   "execution_count": 2,
   "metadata": {},
   "outputs": [
    {
     "ename": "FileNotFoundError",
     "evalue": "[Errno 2] No such file or directory: 'hugo_site.asc'",
     "output_type": "error",
     "traceback": [
      "\u001b[1;31m---------------------------------------------------------------------------\u001b[0m",
      "\u001b[1;31mFileNotFoundError\u001b[0m                         Traceback (most recent call last)",
      "\u001b[1;32m<ipython-input-2-d2a769ccceb8>\u001b[0m in \u001b[0;36m<module>\u001b[1;34m\u001b[0m\n\u001b[0;32m      1\u001b[0m \u001b[1;31m# here we use an arbitrary, very small, \"real\" catchment\u001b[0m\u001b[1;33m\u001b[0m\u001b[1;33m\u001b[0m\u001b[1;33m\u001b[0m\u001b[0m\n\u001b[0;32m      2\u001b[0m \u001b[0mfname\u001b[0m \u001b[1;33m=\u001b[0m \u001b[1;34m'hugo_site.asc'\u001b[0m\u001b[1;33m\u001b[0m\u001b[1;33m\u001b[0m\u001b[0m\n\u001b[1;32m----> 3\u001b[1;33m \u001b[0mmg\u001b[0m\u001b[1;33m,\u001b[0m \u001b[0mz\u001b[0m \u001b[1;33m=\u001b[0m \u001b[0mread_esri_ascii\u001b[0m\u001b[1;33m(\u001b[0m\u001b[0mfname\u001b[0m\u001b[1;33m,\u001b[0m \u001b[0mname\u001b[0m\u001b[1;33m=\u001b[0m\u001b[1;34m'topographic__elevation'\u001b[0m\u001b[1;33m)\u001b[0m\u001b[1;33m\u001b[0m\u001b[1;33m\u001b[0m\u001b[0m\n\u001b[0m\u001b[0;32m      4\u001b[0m \u001b[0mmg\u001b[0m\u001b[1;33m.\u001b[0m\u001b[0mstatus_at_node\u001b[0m\u001b[1;33m[\u001b[0m\u001b[0mmg\u001b[0m\u001b[1;33m.\u001b[0m\u001b[0mnodes_at_right_edge\u001b[0m\u001b[1;33m]\u001b[0m \u001b[1;33m=\u001b[0m \u001b[0mmg\u001b[0m\u001b[1;33m.\u001b[0m\u001b[0mBC_NODE_IS_FIXED_VALUE\u001b[0m\u001b[1;33m\u001b[0m\u001b[1;33m\u001b[0m\u001b[0m\n\u001b[0;32m      5\u001b[0m \u001b[0mmg\u001b[0m\u001b[1;33m.\u001b[0m\u001b[0mstatus_at_node\u001b[0m\u001b[1;33m[\u001b[0m\u001b[0mnp\u001b[0m\u001b[1;33m.\u001b[0m\u001b[0misclose\u001b[0m\u001b[1;33m(\u001b[0m\u001b[0mz\u001b[0m\u001b[1;33m,\u001b[0m \u001b[1;33m-\u001b[0m\u001b[1;36m9999.\u001b[0m\u001b[1;33m)\u001b[0m\u001b[1;33m]\u001b[0m \u001b[1;33m=\u001b[0m \u001b[0mmg\u001b[0m\u001b[1;33m.\u001b[0m\u001b[0mBC_NODE_IS_CLOSED\u001b[0m\u001b[1;33m\u001b[0m\u001b[1;33m\u001b[0m\u001b[0m\n",
      "\u001b[1;32m~\\anaconda3\\envs\\espin\\lib\\site-packages\\landlab\\io\\esri_ascii.py\u001b[0m in \u001b[0;36mread_esri_ascii\u001b[1;34m(asc_file, grid, reshape, name, halo)\u001b[0m\n\u001b[0;32m    439\u001b[0m     \u001b[1;31m# _read_asc_header, and _read_asc_data\u001b[0m\u001b[1;33m\u001b[0m\u001b[1;33m\u001b[0m\u001b[1;33m\u001b[0m\u001b[0m\n\u001b[0;32m    440\u001b[0m     \u001b[1;32mif\u001b[0m \u001b[0misinstance\u001b[0m\u001b[1;33m(\u001b[0m\u001b[0masc_file\u001b[0m\u001b[1;33m,\u001b[0m \u001b[1;33m(\u001b[0m\u001b[0mstr\u001b[0m\u001b[1;33m,\u001b[0m \u001b[0mpathlib\u001b[0m\u001b[1;33m.\u001b[0m\u001b[0mPath\u001b[0m\u001b[1;33m)\u001b[0m\u001b[1;33m)\u001b[0m\u001b[1;33m:\u001b[0m\u001b[1;33m\u001b[0m\u001b[1;33m\u001b[0m\u001b[0m\n\u001b[1;32m--> 441\u001b[1;33m         \u001b[1;32mwith\u001b[0m \u001b[0mopen\u001b[0m\u001b[1;33m(\u001b[0m\u001b[0masc_file\u001b[0m\u001b[1;33m,\u001b[0m \u001b[1;34m\"r\"\u001b[0m\u001b[1;33m)\u001b[0m \u001b[1;32mas\u001b[0m \u001b[0mf\u001b[0m\u001b[1;33m:\u001b[0m\u001b[1;33m\u001b[0m\u001b[1;33m\u001b[0m\u001b[0m\n\u001b[0m\u001b[0;32m    442\u001b[0m             \u001b[0mheader\u001b[0m \u001b[1;33m=\u001b[0m \u001b[0mread_asc_header\u001b[0m\u001b[1;33m(\u001b[0m\u001b[0mf\u001b[0m\u001b[1;33m)\u001b[0m\u001b[1;33m\u001b[0m\u001b[1;33m\u001b[0m\u001b[0m\n\u001b[0;32m    443\u001b[0m             \u001b[0mdata\u001b[0m \u001b[1;33m=\u001b[0m \u001b[0m_read_asc_data\u001b[0m\u001b[1;33m(\u001b[0m\u001b[0mf\u001b[0m\u001b[1;33m)\u001b[0m\u001b[1;33m\u001b[0m\u001b[1;33m\u001b[0m\u001b[0m\n",
      "\u001b[1;31mFileNotFoundError\u001b[0m: [Errno 2] No such file or directory: 'hugo_site.asc'"
     ]
    }
   ],
   "source": [
    "# here we use an arbitrary, very small, \"real\" catchment\n",
    "fname = 'hugo_site.asc'\n",
    "mg, z = read_esri_ascii(fname, name='topographic__elevation')\n",
    "mg.status_at_node[mg.nodes_at_right_edge] = mg.BC_NODE_IS_FIXED_VALUE\n",
    "mg.status_at_node[np.isclose(z, -9999.)] = mg.BC_NODE_IS_CLOSED\n",
    "\n",
    "hydraulic_conductivity = mg.ones('node')*1.e-6\n",
    "\n",
    "plt.figure()\n",
    "imshow_grid_at_node(mg, z, colorbar_label='Elevation (m)')\n",
    "plt.show()"
   ]
  },
  {
   "cell_type": "code",
   "execution_count": null,
   "metadata": {},
   "outputs": [],
   "source": [
    "plt.figure()\n",
    "imshow_grid_at_node(mg, hydraulic_conductivity, colorbar_label='hc')\n",
    "plt.show()"
   ]
  },
  {
   "cell_type": "code",
   "execution_count": null,
   "metadata": {},
   "outputs": [],
   "source": [
    "imshow_grid(mg, mg.at_node['soil_water_infiltration__depth'])"
   ]
  },
  {
   "cell_type": "code",
   "execution_count": null,
   "metadata": {},
   "outputs": [],
   "source": [
    "rain = SpatialPrecipitationDistribution(mg)\n",
    "np.random.seed(26)  # arbitrary to get a cool-looking storm out every time\n",
    "\n",
    "# get the storm simulator to provide a storm\n",
    "# There's only one storm generated here in the time series, so easy enough to do.\n",
    "# first, check the directory we need for saving exists, and make it if not:\n",
    "if not os.path.exists('./rainfall'):\n",
    "    os.makedirs('./rainfall')\n",
    "for (storm_t, interstorm_t) in rain.yield_storms(style='monsoonal'):  # storm lengths in hrs\n",
    "    mg.at_node['rainfall__flux'] *= 0.001  # because the rainfall comes out in mm/h\n",
    "    mg.at_node['rainfall__flux'] *= 10.  # to make the storm heavier and more interesting!\n",
    "    plt.figure()\n",
    "    # plot up this storm\n",
    "    imshow_grid_at_node(\n",
    "        mg, 'rainfall__flux', cmap='gist_ncar', colorbar_label='Rainfall flux (m/h)'\n",
    "    )\n",
    "    plt.show()\n",
    "    write_esri_ascii('./rainfall/rainfall.asc', mg, 'rainfall__flux', clobber=True)"
   ]
  },
  {
   "cell_type": "code",
   "execution_count": null,
   "metadata": {},
   "outputs": [],
   "source": [
    "SI = SoilInfiltrationGreenAmpt(\n",
    "    mg,hydraulic_conductivity=hydraulic_conductivity)\n",
    "of = OverlandFlow(mg, steep_slopes=True)"
   ]
  },
  {
   "cell_type": "code",
   "execution_count": null,
   "metadata": {},
   "outputs": [],
   "source": [
    "for filename in os.listdir('./rainfall'):  # for each file in the folder\n",
    "    if filename.endswith(\".asc\"):  # ...that ends with .asc...\n",
    "        # remove any rainfall field that already exists on the grid:\n",
    "        try:\n",
    "            _ = mg.at_node.pop('rainfall__flux')\n",
    "        except KeyError:\n",
    "            pass\n",
    "        _, q_rain = read_esri_ascii(\n",
    "            './rainfall/'+filename, grid=mg, name='rainfall__flux')\n",
    "    else:\n",
    "        continue\n",
    "      \n",
    "    mg.at_node['surface_water__depth'].fill(1.e-12)\n",
    "\n",
    "    of = OverlandFlow(mg, steep_slopes=True)\n",
    "    SI = SoilInfiltrationGreenAmpt(mg,hydraulic_conductivity=hydraulic_conductivity)\n",
    "    node_of_max_q = 2126\n",
    "    total_mins_to_plot = 60.  # plot 60 mins-worth of runoff\n",
    "    plot_interval_mins = 10.  # show every 10 min\n",
    "    min_tstep_val = 1.  # necessary to get the model going cleanly\n",
    "    outlet_depth = []\n",
    "    outlet_times = []\n",
    "    mean_SID = []\n",
    "    storm_elapsed_time = 0.\n",
    "    total_elapsed_time = 0.\n",
    "    last_storm_loop_tracker = 0.\n",
    "    while total_elapsed_time < total_mins_to_plot * 60.:\n",
    "        dt = of.calc_time_step()\n",
    "        remaining_total_time = total_mins_to_plot * 60. - total_elapsed_time\n",
    "        if storm_elapsed_time < storm_t * 3600.:\n",
    "            remaining_storm_time = storm_t * 3600. - storm_elapsed_time\n",
    "            dt = min((dt, remaining_total_time, remaining_storm_time, min_tstep_val))\n",
    "        else:\n",
    "            dt = min((dt, remaining_total_time, min_tstep_val))\n",
    "        of.run_one_step(dt=dt)\n",
    "        SI.run_one_step(dt=dt)\n",
    "        total_elapsed_time += dt\n",
    "        storm_elapsed_time += dt\n",
    "        storm_loop_tracker = total_elapsed_time % (plot_interval_mins * 60.)\n",
    "        # NB: Do NOT allow this plotting if there are multiple files in the folder\n",
    "        if storm_loop_tracker < last_storm_loop_tracker:\n",
    "            plt.figure()\n",
    "            imshow_grid_at_node(\n",
    "                mg,\n",
    "                'soil_water_infiltration__depth',\n",
    "                var_name='Stage (m)')\n",
    "            plt.title('Soil_water_infiltraiton_depth t=' + str(total_elapsed_time//1) + 's')\n",
    "            plt.show()\n",
    "        last_storm_loop_tracker = storm_loop_tracker\n",
    "        outlet_depth.append(mg.at_node['surface_water__depth'][node_of_max_q])\n",
    "        mean_SID.append(np.mean(mg.at_node['soil_water_infiltration__depth']))\n",
    "        outlet_times.append(total_elapsed_time)\n",
    "        if storm_elapsed_time < storm_t * 3600.:\n",
    "            mg.at_node['surface_water__depth'] += mg.at_node['rainfall__flux'] * dt / 3600."
   ]
  },
  {
   "cell_type": "code",
   "execution_count": null,
   "metadata": {},
   "outputs": [],
   "source": [
    "plt.figure()\n",
    "plt.plot(outlet_times, outlet_depth, '-')\n",
    "plt.xlabel('Time elapsed (s)')\n",
    "plt.ylabel('Flood stage (m)')"
   ]
  },
  {
   "cell_type": "code",
   "execution_count": null,
   "metadata": {},
   "outputs": [],
   "source": [
    "plt.figure()\n",
    "plt.plot(outlet_times, mean_SID, '-')\n",
    "plt.xlabel('Time elapsed (s)')\n",
    "plt.ylabel('mean soil infiltration depth (m)')"
   ]
  },
  {
   "cell_type": "code",
   "execution_count": null,
   "metadata": {},
   "outputs": [],
   "source": [
    "np_SID = np.array(mean_SID)\n",
    "SID_diff = np.diff(np_SID)"
   ]
  },
  {
   "cell_type": "code",
   "execution_count": null,
   "metadata": {},
   "outputs": [],
   "source": [
    "plt.figure()\n",
    "plt.plot(outlet_times[0:-1], SID_diff, '-')\n",
    "plt.xlabel('Time elapsed (s)')\n",
    "plt.ylabel('mean soil infiltration depth difference over time')"
   ]
  }
 ],
 "metadata": {
  "kernelspec": {
   "display_name": "Python 3",
   "language": "python",
   "name": "python3"
  },
  "language_info": {
   "codemirror_mode": {
    "name": "ipython",
    "version": 3
   },
   "file_extension": ".py",
   "mimetype": "text/x-python",
   "name": "python",
   "nbconvert_exporter": "python",
   "pygments_lexer": "ipython3",
   "version": "3.8.5"
  }
 },
 "nbformat": 4,
 "nbformat_minor": 4
}
