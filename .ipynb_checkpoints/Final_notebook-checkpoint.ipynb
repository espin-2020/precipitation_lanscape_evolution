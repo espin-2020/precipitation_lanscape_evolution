{
 "cells": [
  {
   "cell_type": "markdown",
   "metadata": {},
   "source": [
    "# Coupling rainfall-runoff-soil moisture in Landlab\n",
    "In this tutorial we couple 3 Landlab components in order to answer 2 research questions.\n",
    "The coupling of `SpatialPrecipitationDistribution` and `OverlandFlow` is based of the tutorial **Coupled rainfall runoff model with OverlandFlow**, on which we couple `infiltrate_soil_green_ampt`\n",
    "\n",
    "\n",
    "\n",
    "\n",
    "## Q1 - How does heterogeneous soil moisture and rainfall events impact stream discharge?\n",
    "\n",
    "## Q2 - How does different rainfall events regulates soil moisture?"
   ]
  },
  {
   "cell_type": "markdown",
   "metadata": {},
   "source": [
    "<hr>\n",
    "<small>For more Landlab tutorials, click here: <a href=\"https://landlab.readthedocs.io/en/latest/user_guide/tutorials.html\">https://landlab.readthedocs.io/en/latest/user_guide/tutorials.html</a></small>\n",
    "<hr>"
   ]
  },
  {
   "cell_type": "markdown",
   "metadata": {},
   "source": []
  }
 ],
 "metadata": {
  "kernelspec": {
   "display_name": "Python 3",
   "language": "python",
   "name": "python3"
  },
  "language_info": {
   "codemirror_mode": {
    "name": "ipython",
    "version": 3
   },
   "file_extension": ".py",
   "mimetype": "text/x-python",
   "name": "python",
   "nbconvert_exporter": "python",
   "pygments_lexer": "ipython3",
   "version": "3.6.8"
  }
 },
 "nbformat": 4,
 "nbformat_minor": 4
}
